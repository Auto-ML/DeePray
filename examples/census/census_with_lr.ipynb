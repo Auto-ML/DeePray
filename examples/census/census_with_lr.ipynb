{
 "cells": [
  {
   "cell_type": "code",
   "execution_count": 3,
   "metadata": {},
   "outputs": [],
   "source": [
    "\"\"\"\n",
    "build and train model\n",
    "\"\"\"\n",
    "\n",
    "import sys\n",
    "\n",
    "from absl import app, flags\n",
    "\n",
    "import deepray as dp\n",
    "from deepray.base.trainer import train\n",
    "from deepray.model.build_model import BuildModel\n",
    "\n",
    "FLAGS = flags.FLAGS"
   ]
  },
  {
   "cell_type": "code",
   "execution_count": 8,
   "metadata": {},
   "outputs": [],
   "source": [
    "def main(flags=None):\n",
    "    FLAGS(flags, known_only=True)\n",
    "    flags = FLAGS\n",
    "    model = BuildModel(flags)\n",
    "    history = train(model)\n",
    "    print(history)\n",
    "\n"
   ]
  },
  {
   "cell_type": "code",
   "execution_count": 9,
   "metadata": {},
   "outputs": [
    {
     "name": "stdout",
     "output_type": "stream",
     "text": [
      "Epoch 1/10\n",
      "611/611 [==============================] - 2s 3ms/step - loss: 0.3870 - auc: 0.8531 - binary_accuracy: 0.8194 - val_loss: 0.3561 - val_auc: 0.8818 - val_binary_accuracy: 0.8305\n",
      "Epoch 2/10\n",
      "611/611 [==============================] - 1s 2ms/step - loss: 0.3479 - auc: 0.8856 - binary_accuracy: 0.8390 - val_loss: 0.3448 - val_auc: 0.8948 - val_binary_accuracy: 0.8387s - loss: 0.3521 - auc: 0.8832 - binary_accuracy: \n",
      "Epoch 3/10\n",
      "611/611 [==============================] - 1s 2ms/step - loss: 0.3354 - auc: 0.8946 - binary_accuracy: 0.8451 - val_loss: 0.3287 - val_auc: 0.9020 - val_binary_accuracy: 0.8445\n",
      "Epoch 4/10\n",
      "611/611 [==============================] - 1s 2ms/step - loss: 0.3320 - auc: 0.8969 - binary_accuracy: 0.8463 - val_loss: 0.3544 - val_auc: 0.9030 - val_binary_accuracy: 0.8282\n",
      "Epoch 5/10\n",
      "611/611 [==============================] - 1s 2ms/step - loss: 0.3294 - auc: 0.8986 - binary_accuracy: 0.8463 - val_loss: 0.3526 - val_auc: 0.9033 - val_binary_accuracy: 0.8273\n",
      "Epoch 6/10\n",
      "611/611 [==============================] - 1s 2ms/step - loss: 0.3295 - auc: 0.8985 - binary_accuracy: 0.8463 - val_loss: 0.3207 - val_auc: 0.9046 - val_binary_accuracy: 0.8503\n",
      "Epoch 7/10\n",
      "611/611 [==============================] - 1s 2ms/step - loss: 0.3281 - auc: 0.8996 - binary_accuracy: 0.8476 - val_loss: 0.3214 - val_auc: 0.9047 - val_binary_accuracy: 0.8487\n",
      "Epoch 8/10\n",
      "611/611 [==============================] - 1s 2ms/step - loss: 0.3278 - auc: 0.8998 - binary_accuracy: 0.8477 - val_loss: 0.3229 - val_auc: 0.9051 - val_binary_accuracy: 0.8476\n",
      "Epoch 9/10\n",
      "611/611 [==============================] - 1s 2ms/step - loss: 0.3268 - auc: 0.9006 - binary_accuracy: 0.8481 - val_loss: 0.3221 - val_auc: 0.9054 - val_binary_accuracy: 0.8489\n",
      "Epoch 10/10\n",
      "611/611 [==============================] - 1s 2ms/step - loss: 0.3263 - auc: 0.9008 - binary_accuracy: 0.8485 - val_loss: 0.3268 - val_auc: 0.9053 - val_binary_accuracy: 0.8472\n",
      "<tensorflow.python.keras.callbacks.History object at 0x7fe9c5d27e10>\n"
     ]
    }
   ],
   "source": [
    "argv = [\n",
    "    sys.argv[0],\n",
    "    '--model=lr',\n",
    "    '--train_data=/Users/vincent/Projects/DeePray/examples/census/data/train',\n",
    "    '--valid_data=/Users/vincent/Projects/DeePray/examples/census/data/valid',\n",
    "    '--feature_map=/Users/vincent/Projects/DeePray/examples/census/data/feature_map.csv',\n",
    "    '--learning_rate=0.01',\n",
    "    '--epochs=10',\n",
    "    '--batch_size=64',\n",
    "]\n",
    "main(flags=argv)"
   ]
  },
  {
   "cell_type": "code",
   "execution_count": 2,
   "metadata": {},
   "outputs": [
    {
     "name": "stdout",
     "output_type": "stream",
     "text": [
      "The tensorboard extension is already loaded. To reload it, use:\n",
      "  %reload_ext tensorboard\n"
     ]
    },
    {
     "data": {
      "text/html": [
       "\n",
       "      <iframe id=\"tensorboard-frame-e3cc06161bb1cb96\" width=\"100%\" height=\"800\" frameborder=\"0\">\n",
       "      </iframe>\n",
       "      <script>\n",
       "        (function() {\n",
       "          const frame = document.getElementById(\"tensorboard-frame-e3cc06161bb1cb96\");\n",
       "          const url = new URL(\"/\", window.location);\n",
       "          url.port = 6006;\n",
       "          frame.src = url;\n",
       "        })();\n",
       "      </script>\n",
       "  "
      ],
      "text/plain": [
       "<IPython.core.display.HTML object>"
      ]
     },
     "metadata": {},
     "output_type": "display_data"
    }
   ],
   "source": [
    "# Load the TensorBoard notebook extension.\n",
    "%load_ext tensorboard\n",
    "%tensorboard --logdir /Users/vincent/Projects/DeePray/examples/census/summaries/20200603-224406"
   ]
  },
  {
   "cell_type": "code",
   "execution_count": null,
   "metadata": {},
   "outputs": [],
   "source": []
  }
 ],
 "metadata": {
  "kernelspec": {
   "display_name": "Python 3",
   "language": "python",
   "name": "python3"
  },
  "language_info": {
   "codemirror_mode": {
    "name": "ipython",
    "version": 3
   },
   "file_extension": ".py",
   "mimetype": "text/x-python",
   "name": "python",
   "nbconvert_exporter": "python",
   "pygments_lexer": "ipython3",
   "version": "3.7.4"
  },
  "toc": {
   "base_numbering": 1,
   "nav_menu": {},
   "number_sections": true,
   "sideBar": true,
   "skip_h1_title": false,
   "title_cell": "Table of Contents",
   "title_sidebar": "Contents",
   "toc_cell": false,
   "toc_position": {},
   "toc_section_display": true,
   "toc_window_display": false
  },
  "varInspector": {
   "cols": {
    "lenName": 16,
    "lenType": 16,
    "lenVar": 40
   },
   "kernels_config": {
    "python": {
     "delete_cmd_postfix": "",
     "delete_cmd_prefix": "del ",
     "library": "var_list.py",
     "varRefreshCmd": "print(var_dic_list())"
    },
    "r": {
     "delete_cmd_postfix": ") ",
     "delete_cmd_prefix": "rm(",
     "library": "var_list.r",
     "varRefreshCmd": "cat(var_dic_list()) "
    }
   },
   "types_to_exclude": [
    "module",
    "function",
    "builtin_function_or_method",
    "instance",
    "_Feature"
   ],
   "window_display": false
  }
 },
 "nbformat": 4,
 "nbformat_minor": 4
}
